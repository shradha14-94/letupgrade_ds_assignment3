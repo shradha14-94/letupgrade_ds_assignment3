{
 "cells": [
  {
   "cell_type": "code",
   "execution_count": 1,
   "id": "a710f250",
   "metadata": {},
   "outputs": [
    {
     "data": {
      "text/plain": [
       "'man'"
      ]
     },
     "execution_count": 1,
     "metadata": {},
     "output_type": "execute_result"
    }
   ],
   "source": [
    "# list1=(90,20,(\"hello\",\"iron-man\",1),90,890)\n",
    "# extract the string \"man\" from the list 1\n",
    "\n",
    "\n",
    "list1=(90,20,(\"hello\",\"iron-man\",1),90,890)\n",
    "list1[2][1][5:8]\n"
   ]
  },
  {
   "cell_type": "code",
   "execution_count": 2,
   "id": "eb22a658",
   "metadata": {},
   "outputs": [
    {
     "name": "stdout",
     "output_type": "stream",
     "text": [
      "[10, 20, 30, 40, 50]\n",
      "[10, 30, 40, 50]\n"
     ]
    }
   ],
   "source": [
    "# list=[10,20,20,30,40,50]\n",
    "#remove all the occurences of from list1\n",
    "\n",
    "\n",
    "\t\n",
    "list=[10,20,20,30,40,50]\n",
    "\n",
    "while 20 in list:\n",
    "    list.remove(20)\n",
    "    print(list)"
   ]
  },
  {
   "cell_type": "code",
   "execution_count": null,
   "id": "ac712d15",
   "metadata": {},
   "outputs": [],
   "source": []
  }
 ],
 "metadata": {
  "kernelspec": {
   "display_name": "Python 3",
   "language": "python",
   "name": "python3"
  },
  "language_info": {
   "codemirror_mode": {
    "name": "ipython",
    "version": 3
   },
   "file_extension": ".py",
   "mimetype": "text/x-python",
   "name": "python",
   "nbconvert_exporter": "python",
   "pygments_lexer": "ipython3",
   "version": "3.8.8"
  }
 },
 "nbformat": 4,
 "nbformat_minor": 5
}
